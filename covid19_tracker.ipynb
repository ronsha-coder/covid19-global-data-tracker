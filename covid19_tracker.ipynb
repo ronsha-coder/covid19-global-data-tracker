# Import necessary libraries
import pandas as pd
import matplotlib.pyplot as plt
import seaborn as sns
import requests

# Load the dataset (you can use a free API for COVID-19 data)
url = "https://api.covid19api.com/summary"
response = requests.get(url)
data = response.json()

# Extract global data
global_data = data['Global']

# Create a DataFrame for the global summary
global_df = pd.DataFrame({
    "TotalConfirmed": [global_data['TotalConfirmed']],
    "TotalDeaths": [global_data['TotalDeaths']],
    "TotalRecovered": [global_data['TotalRecovered']],
    "NewConfirmed": [global_data['NewConfirmed']],
    "NewDeaths": [global_data['NewDeaths']],
    "NewRecovered": [global_data['NewRecovered']]
})

# Print out the global summary
print("Global COVID-19 Summary")
print(global_df)

# Now let's visualize the data with a bar chart
fig, ax = plt.subplots(figsize=(10, 6))
sns.barplot(x=global_df.columns, y=global_df.iloc[0], palette='coolwarm')
plt.title('Global COVID-19 Statistics')
plt.xlabel('Category')
plt.ylabel('Count')
plt.xticks(rotation=45)
plt.show()

# To track data for individual countries, let's create a DataFrame
countries_data = data['Countries']

# Convert the list of countries into a DataFrame
countries_df = pd.DataFrame(countries_data)

# Display the top 5 countries with the highest number of confirmed cases
top_countries = countries_df[['Country', 'TotalConfirmed']].sort_values(by='TotalConfirmed', ascending=False).head(5)
print("\nTop 5 Countries with Highest COVID-19 Confirmed Cases:")
print(top_countries)

# Now, let's visualize the top 5 countries with the highest confirmed cases
plt.figure(figsize=(10, 6))
sns.barplot(x=top_countries['Country'], y=top_countries['TotalConfirmed'], palette='viridis')
plt.title('Top 5 Countries with the Highest COVID-19 Confirmed Cases')
plt.xlabel('Country')
plt.ylabel('Total Confirmed Cases')
plt.xticks(rotation=45)
plt.show()
