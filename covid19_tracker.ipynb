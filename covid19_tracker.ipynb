import pandas as pd
import requests
import matplotlib.pyplot as plt
import seaborn as sns

# Fetch COVID-19 global data from a real API (COVID-19 API)
url = 'https://api.covid19api.com/summary'
response = requests.get(url)

# Check if the API request was successful
if response.status_code == 200:
    data = response.json()
else:
    print("Failed to retrieve data")
    exit()

# Extracting global data from the API response
global_data = data['Global']
total_cases = global_data['TotalConfirmed']
total_deaths = global_data['TotalDeaths']
total_recovered = global_data['TotalRecovered']
new_cases = global_data['NewConfirmed']
new_deaths = global_data['NewDeaths']

# Creating a DataFrame for the global COVID-19 data
covid_df = pd.DataFrame({
    'Total Cases': [total_cases],
    'Total Deaths': [total_deaths],
    'Total Recovered': [total_recovered],
    'New Cases': [new_cases],
    'New Deaths': [new_deaths]
})

# Display the data
print("Global COVID-19 Stats")
print(covid_df)

# Visualizing the data with a bar chart
plt.figure(figsize=(10, 6))
sns.barplot(x=covid_df.columns, y=covid_df.iloc[0])
plt.title('COVID-19 Global Statistics')
plt.ylabel('Count')
plt.show()

# Save the bar chart to a file
plt.savefig('covid19_global_stats.png')
